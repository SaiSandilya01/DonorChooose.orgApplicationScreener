{
 "cells": [
  {
   "cell_type": "markdown",
   "metadata": {
    "id": "FYqCIxzFb3c5"
   },
   "source": [
    "## 1.1 Loading Data"
   ]
  },
  {
   "cell_type": "code",
   "execution_count": 49,
   "metadata": {
    "id": "dA1jknyqb3c_"
   },
   "outputs": [
    {
     "data": {
      "text/plain": [
       "Index(['school_state', 'teacher_prefix', 'project_grade_category',\n",
       "       'teacher_number_of_previously_posted_projects', 'project_is_approved',\n",
       "       'clean_categories', 'clean_subcategories', 'essay', 'price'],\n",
       "      dtype='object')"
      ]
     },
     "execution_count": 49,
     "metadata": {},
     "output_type": "execute_result"
    }
   ],
   "source": [
    "\n",
    "\n",
    "import pandas\n",
    "data = pandas.read_csv('preprocessed_data.csv')\n",
    "data.columns"
   ]
  },
  {
   "cell_type": "markdown",
   "metadata": {
    "id": "WtVV13Fyb3dH"
   },
   "source": [
    "<h2>1.2 Splitting data into Train and cross validation(or test): Stratified Sampling</h2>"
   ]
  },
  {
   "cell_type": "code",
   "execution_count": 51,
   "metadata": {
    "id": "i-PyprDNb3dI"
   },
   "outputs": [
    {
     "name": "stdout",
     "output_type": "stream",
     "text": [
      "73196 36052\n"
     ]
    }
   ],
   "source": [
    "# Split the dataset \n",
    "# 1) If you want to apply simple cross-validation, split the dataset into 3 parts (ie., train, CV and test sets)\n",
    "# 2) If you want to apply K-fold CV (or) GridSearch Cross Validation (or) Randomized Search Cross Validation, just split the dataset into 2 parts (ie., train and test sets)\n",
    "from sklearn.model_selection import train_test_split\n",
    "y = data['project_is_approved'].values\n",
    "X = data.drop(['project_is_approved'], axis=1)\n",
    "X_train, X_test, y_train, y_test = train_test_split(X, y , test_size = 0.33, stratify = y, random_state = 1)\n",
    "print(len(X_train),len(X_test))\n"
   ]
  },
  {
   "cell_type": "markdown",
   "metadata": {
    "id": "EnZwVNULb3dO"
   },
   "source": [
    "<h2>1.3 Make Data Model Ready: encoding essay, and project_title</h2>"
   ]
  },
  {
   "cell_type": "code",
   "execution_count": 52,
   "metadata": {},
   "outputs": [
    {
     "data": {
      "text/plain": [
       "CountVectorizer(max_features=5000, ngram_range=(2, 2), stop_words='english')"
      ]
     },
     "execution_count": 52,
     "metadata": {},
     "output_type": "execute_result"
    }
   ],
   "source": [
    "# Apply Bag of Words (BOW) vectorization on 'Preprocessed_Essay' \n",
    "# Apply Bag of Words (BOW) vectorization on 'Preprocessed_Title' (Optional)\n",
    "\n",
    "from sklearn.feature_extraction.text import CountVectorizer\n",
    "corpus = data[\"essay\"].values\n",
    "vectorizer = CountVectorizer(stop_words = 'english', ngram_range=(2,2),max_features= 5000)\n",
    "vectorizer.fit(corpus)\n"
   ]
  },
  {
   "cell_type": "code",
   "execution_count": 53,
   "metadata": {},
   "outputs": [
    {
     "name": "stdout",
     "output_type": "stream",
     "text": [
      "(73196, 5000)\n"
     ]
    }
   ],
   "source": [
    "vectorizer_train_bow = vectorizer.transform(X_train['essay'].values)\n",
    "print(vectorizer_train_bow.shape)\n",
    "vectorizer_test_bow = vectorizer.transform(X_test['essay'].values)"
   ]
  },
  {
   "cell_type": "code",
   "execution_count": 54,
   "metadata": {},
   "outputs": [],
   "source": [
    "# Apply TF-IDF vectorization on 'Preprocessed_Essay' \n",
    "# Apply TF-IDF vectorization on 'Preprocessed_Title' (Optional)\n",
    "from sklearn.feature_extraction.text import TfidfVectorizer\n",
    "\n",
    "tfidf_vec = TfidfVectorizer(min_df=10,max_features=5000)\n",
    "tfidf_vec.fit(corpus)\n",
    "vec_train_tfidf = tfidf_vec.transform(X_train['essay'].values)\n",
    "vec_test_tfidf = tfidf_vec.transform(X_test['essay'].values)\n",
    "\n"
   ]
  },
  {
   "cell_type": "code",
   "execution_count": 55,
   "metadata": {},
   "outputs": [
    {
     "name": "stdout",
     "output_type": "stream",
     "text": [
      "(73196, 5000)\n",
      "(36052, 5000)\n"
     ]
    }
   ],
   "source": [
    "print(vec_train_tfidf.shape)\n",
    "print(vec_test_tfidf.shape)"
   ]
  },
  {
   "cell_type": "markdown",
   "metadata": {
    "id": "bGy86kgHb3dX"
   },
   "source": [
    "<h2>1.4 Make Data Model Ready: encoding numerical, categorical features</h2>"
   ]
  },
  {
   "cell_type": "markdown",
   "metadata": {},
   "source": [
    "### Encoding categorical features"
   ]
  },
  {
   "cell_type": "code",
   "execution_count": 56,
   "metadata": {
    "id": "EfXkofX1b3da"
   },
   "outputs": [
    {
     "name": "stdout",
     "output_type": "stream",
     "text": [
      "(73196, 51) (73196,)\n",
      "(36052, 51) (36052,)\n"
     ]
    }
   ],
   "source": [
    "# Apply One-Hot Encoding on the categorical features either using OneHotEncoder() (or) CountVectorizer(binary=True)\n",
    "# Apply Normalization on the numerical features using Normalizer().\n",
    "\n",
    "\n",
    "vectorizer_state = CountVectorizer()\n",
    "X_train_state = vectorizer_state.fit_transform(X_train['school_state'].values)\n",
    "\n",
    "\n",
    "X_test_state = vectorizer_state.fit_transform(X_test['school_state'].values)\n",
    "\n",
    "print(X_train_state.shape, y_train.shape)\n",
    "print(X_test_state.shape, y_test.shape)\n"
   ]
  },
  {
   "cell_type": "code",
   "execution_count": 57,
   "metadata": {},
   "outputs": [
    {
     "name": "stdout",
     "output_type": "stream",
     "text": [
      "Index(['school_state', 'teacher_prefix', 'project_grade_category',\n",
      "       'teacher_number_of_previously_posted_projects', 'clean_categories',\n",
      "       'clean_subcategories', 'essay', 'price'],\n",
      "      dtype='object')\n",
      "(73196, 4) (73196,)\n",
      "(36052, 4) (36052,)\n"
     ]
    }
   ],
   "source": [
    "print(X_train.columns)\n",
    "vectorizer_project_grade_category = CountVectorizer()\n",
    "X_train_project_grade_category = vectorizer_project_grade_category.fit_transform(X_train['project_grade_category'].values)\n",
    "X_test_project_grade_category = vectorizer_project_grade_category.fit_transform(X_test['project_grade_category'].values)\n",
    "\n",
    "print(X_train_project_grade_category.shape, y_train.shape)\n",
    "print(X_test_project_grade_category.shape, y_test.shape)"
   ]
  },
  {
   "cell_type": "code",
   "execution_count": 58,
   "metadata": {},
   "outputs": [
    {
     "name": "stdout",
     "output_type": "stream",
     "text": [
      "(73196, 5) (73196,)\n",
      "(36052, 5) (36052,)\n"
     ]
    }
   ],
   "source": [
    "vectorizer_teacher_prefix = CountVectorizer()\n",
    "X_train_teacher_prefix = vectorizer_teacher_prefix.fit_transform(X_train['teacher_prefix'].values)\n",
    "X_test_teacher_prefix = vectorizer_teacher_prefix.fit_transform(X_test['teacher_prefix'].values)\n",
    "\n",
    "print(X_train_teacher_prefix.shape, y_train.shape)\n",
    "print(X_test_teacher_prefix.shape, y_test.shape)"
   ]
  },
  {
   "cell_type": "code",
   "execution_count": 59,
   "metadata": {},
   "outputs": [
    {
     "name": "stdout",
     "output_type": "stream",
     "text": [
      "(73196, 9) (73196,)\n",
      "(36052, 9) (36052,)\n"
     ]
    }
   ],
   "source": [
    "vectorizer_clean_categories = CountVectorizer()\n",
    "X_train_clean_categories = vectorizer_clean_categories.fit_transform(X_train['clean_categories'].values)\n",
    "X_test_clean_categories = vectorizer_clean_categories.fit_transform(X_test['clean_categories'].values)\n",
    "\n",
    "print(X_train_clean_categories.shape, y_train.shape)\n",
    "print(X_test_clean_categories.shape, y_test.shape)"
   ]
  },
  {
   "cell_type": "code",
   "execution_count": 60,
   "metadata": {},
   "outputs": [
    {
     "name": "stdout",
     "output_type": "stream",
     "text": [
      "(73196, 30) (73196,)\n",
      "(36052, 30) (36052,)\n"
     ]
    }
   ],
   "source": [
    "vectorizer_clean_subcategories = CountVectorizer()\n",
    "X_train_clean_subcategories = vectorizer_clean_subcategories.fit_transform(X_train['clean_subcategories'].values)\n",
    "X_test_clean_subcategories = vectorizer_clean_subcategories.fit_transform(X_test['clean_subcategories'].values)\n",
    "\n",
    "print(X_train_clean_subcategories.shape, y_train.shape)\n",
    "print(X_test_clean_subcategories.shape, y_test.shape)"
   ]
  },
  {
   "cell_type": "markdown",
   "metadata": {},
   "source": [
    "### Encoding numerical features"
   ]
  },
  {
   "cell_type": "code",
   "execution_count": 61,
   "metadata": {},
   "outputs": [
    {
     "name": "stdout",
     "output_type": "stream",
     "text": [
      "(73196, 1) (73196,)\n",
      "(36052, 1) (36052,)\n"
     ]
    }
   ],
   "source": [
    "from sklearn.preprocessing import Normalizer\n",
    "\n",
    "normalizer = Normalizer()\n",
    "X_train_price = normalizer.fit_transform(X_train['price'].values.reshape(1,-1)) # .reshape to convert everything onto the y axis from x axis\n",
    "X_test_price = normalizer.fit_transform(X_test['price'].values.reshape(1,-1))\n",
    "X_train_price = X_train_price.reshape(-1,1)\n",
    "X_test_price = X_test_price.reshape(-1,1)\n",
    "print(X_train_price.shape, y_train.shape)\n",
    "print(X_test_price.shape, y_test.shape)\n"
   ]
  },
  {
   "cell_type": "code",
   "execution_count": 62,
   "metadata": {},
   "outputs": [
    {
     "name": "stdout",
     "output_type": "stream",
     "text": [
      "(73196, 1) (73196,)\n",
      "(36052, 1) (36052,)\n"
     ]
    }
   ],
   "source": [
    "normalizer = Normalizer()\n",
    "X_train_submission = normalizer.fit_transform(X_train['teacher_number_of_previously_posted_projects'].values.reshape(1,-1)) # .reshape to convert everything onto the y axis from x axis\n",
    "X_test_submission = normalizer.fit_transform(X_test['teacher_number_of_previously_posted_projects'].values.reshape(1,-1))\n",
    "X_train_submission = X_train_price.reshape(-1,1)\n",
    "X_test_submission = X_test_price.reshape(-1,1)\n",
    "print(X_train_submission.shape, y_train.shape)\n",
    "print(X_test_submission.shape, y_test.shape)\n"
   ]
  },
  {
   "cell_type": "code",
   "execution_count": 63,
   "metadata": {},
   "outputs": [],
   "source": [
    "from scipy.sparse import hstack\n",
    "\n",
    "X_train_set_bow = hstack((vectorizer_train_bow,  X_train_submission, X_train_price, X_train_clean_subcategories, X_train_clean_categories, X_train_teacher_prefix, X_train_project_grade_category, X_train_state))\n",
    "X_test_set_bow = hstack((vectorizer_test_bow,  X_test_submission, X_test_price, X_test_clean_subcategories, X_test_clean_categories, X_test_teacher_prefix, X_test_project_grade_category, X_test_state))\n",
    "X_train_set_tfidf = hstack((vec_train_tfidf,  X_train_submission, X_train_price, X_train_clean_subcategories, X_train_clean_categories, X_train_teacher_prefix, X_train_project_grade_category, X_train_state))\n",
    "X_test_set_tfidf = hstack((vec_test_tfidf,  X_test_submission, X_test_price, X_test_clean_subcategories, X_test_clean_categories, X_test_teacher_prefix, X_test_project_grade_category, X_test_state ))"
   ]
  },
  {
   "cell_type": "code",
   "execution_count": 64,
   "metadata": {},
   "outputs": [
    {
     "name": "stdout",
     "output_type": "stream",
     "text": [
      "(73196, 5101) (36052, 5101)\n",
      "(73196, 5101) (36052, 5101)\n"
     ]
    }
   ],
   "source": [
    "print(X_train_set_bow.shape, X_test_set_bow.shape)\n",
    "print(X_train_set_tfidf.shape, X_test_set_tfidf.shape)"
   ]
  },
  {
   "cell_type": "markdown",
   "metadata": {
    "id": "yYHPYadYb3dh"
   },
   "source": [
    "<h2>1.5 Appling NB on different kind of featurization as mentioned in the instructions</h2>\n",
    "\n",
    "<br>Apply NB on different kind of featurization as mentioned in the instructions\n",
    "<br> For Every model that you work on make sure you do the step 2 and step 3 of instrucations"
   ]
  },
  {
   "cell_type": "code",
   "execution_count": null,
   "metadata": {},
   "outputs": [],
   "source": []
  },
  {
   "cell_type": "markdown",
   "metadata": {
    "id": "DNwqilFxb3di"
   },
   "source": [
    "#### BOW"
   ]
  },
  {
   "cell_type": "code",
   "execution_count": 65,
   "metadata": {},
   "outputs": [
    {
     "name": "stdout",
     "output_type": "stream",
     "text": [
      "Fitting 10 folds for each of 5 candidates, totalling 50 fits\n"
     ]
    }
   ],
   "source": [
    "# Perform Hyperparameter Tuning.\n",
    "# Plot the training and the CV AUC scores, for different values of 'alpha', using a 2D line plot\n",
    "from sklearn.naive_bayes import MultinomialNB\n",
    "from sklearn.model_selection import GridSearchCV\n",
    "\n",
    "params = {'alpha': [0.01, 0.1, 1, 10, 100]}\n",
    "\n",
    "multinomial_nb_grid = GridSearchCV(MultinomialNB(), param_grid = params, n_jobs = -1, cv = 10, verbose = 5, return_train_score=True,scoring = 'roc_auc')\n",
    "multinomial_nb_grid.fit(X_train_set_bow,y_train)\n",
    "\n",
    "train_auc = multinomial_nb_grid.cv_results_['mean_train_score']\n",
    "cv_auc = multinomial_nb_grid.cv_results_['mean_test_score']\n",
    "\n",
    "\n",
    "\n",
    "\n",
    "\n",
    "\n",
    "\n"
   ]
  },
  {
   "cell_type": "code",
   "execution_count": 66,
   "metadata": {},
   "outputs": [
    {
     "name": "stdout",
     "output_type": "stream",
     "text": [
      "Train Accuracy : 0.771\n",
      "Test Accuracy : 0.752\n",
      "Best Accuracy Through Grid Search : 0.664\n",
      "Best Parameters :  {'alpha': 0.01}\n"
     ]
    }
   ],
   "source": [
    "# Obtain the optimal value for 'alpha' and using the obtained optimal 'alpha' value, fit a multinomial naive bayes model, on the train data,\n",
    "# Note: If you have split the datase into 3 parts (ie., train, cv and test sets) in the beginning, then the training datafor this final model would be (train set + cv set)\n",
    "# Make class label and probability predictions on the train and test data.\n",
    "\n",
    "\n",
    "print('Train Accuracy : %.3f'%multinomial_nb_grid.best_estimator_.score(X_train_set_bow,y_train))\n",
    "print('Test Accuracy : %.3f'%multinomial_nb_grid.best_estimator_.score(X_test_set_bow, y_test))\n",
    "print('Best Accuracy Through Grid Search : %.3f'%multinomial_nb_grid.best_score_)\n",
    "print('Best Parameters : ',multinomial_nb_grid.best_params_)\n"
   ]
  },
  {
   "cell_type": "code",
   "execution_count": 67,
   "metadata": {},
   "outputs": [
    {
     "data": {
      "image/png": "[encoded data removed]",
      "text/plain": [
       "<Figure size 432x288 with 1 Axes>"
      ]
     },
     "metadata": {
      "needs_background": "light"
     },
     "output_type": "display_data"
    }
   ],
   "source": [
    "import numpy as np\n",
    "import matplotlib.pyplot as plt \n",
    "\n",
    "log_param = list(map(np.log, params[\"alpha\"]))\n",
    "\n",
    "\n",
    "\n",
    "plt.plot(log_param,train_auc, label = 'Train AUC')\n",
    "plt.plot(log_param,cv_auc, label = \"CV AUC\")\n",
    "plt.scatter(log_param, train_auc)\n",
    "plt.scatter(log_param, cv_auc)\n",
    "plt.legend()\n",
    "plt.title(\"log alpha VS AUC\")\n",
    "plt.xlabel(\"log alpha\")\n",
    "plt.ylabel(\"AUC\")\n",
    "plt.grid()\n",
    "\n",
    "\n"
   ]
  },
  {
   "cell_type": "code",
   "execution_count": 68,
   "metadata": {},
   "outputs": [
    {
     "data": {
      "image/png": "[encoded data removed]",
      "text/plain": [
       "<Figure size 432x288 with 1 Axes>"
      ]
     },
     "metadata": {
      "needs_background": "light"
     },
     "output_type": "display_data"
    }
   ],
   "source": [
    "# Plot the ROC-AUC curves using the probability predictions made on train and test data.\n",
    "from sklearn.metrics import roc_curve, auc\n",
    "\n",
    "model_bow = MultinomialNB(alpha = 0.01 )\n",
    "model_bow.fit(X_train_set_bow, y_train)\n",
    "y_train_prob = multinomial_nb_grid.predict_proba(X_train_set_bow)[:, 1]\n",
    "y_test_prob = multinomial_nb_grid.predict_proba(X_test_set_bow)[:, 1]\n",
    "\n",
    "train_fpr, train_tpr, train_thresholds = roc_curve(y_train,y_train_prob)\n",
    "test_fpr, test_tpr, test_thresholds = roc_curve(y_test, y_test_prob)\n",
    "auc_train_bow = auc(train_fpr, train_tpr)\n",
    "auc_test_bow = auc(test_fpr, test_tpr)\n",
    "plt.plot(train_fpr, train_tpr, label = \"Train\")\n",
    "plt.plot(test_fpr,test_tpr, label = \"Test\")\n",
    "plt.legend()\n",
    "plt.xlabel(\"FPR\")\n",
    "plt.ylabel(\"TPR\")\n",
    "plt.title('AUC')\n",
    "plt.grid()\n"
   ]
  },
  {
   "cell_type": "code",
   "execution_count": 69,
   "metadata": {},
   "outputs": [],
   "source": [
    "# Pick the best threshold among the probability estimates, such that it has to yield maximum value for TPR*(1-FPR)\n",
    "# Plot the confusion matrices(each for train and test data) afer encoding the predicted class labels, on the basis of the best threshod probability estimate.\n",
    "def best_threshold(threshold, fpr, tpr):\n",
    "    return(threshold[np.argmax(tpr*(1-fpr))])\n",
    "def best_predictions(proba, threshold):\n",
    "    pred = []\n",
    "    for i in proba:\n",
    "        if i> threshold:\n",
    "            pred.append(1)\n",
    "        else:\n",
    "            pred.append(0)\n",
    "    return pred\n",
    "\n"
   ]
  },
  {
   "cell_type": "code",
   "execution_count": 70,
   "metadata": {},
   "outputs": [
    {
     "data": {
      "text/plain": [
       "<AxesSubplot:>"
      ]
     },
     "execution_count": 70,
     "metadata": {},
     "output_type": "execute_result"
    },
    {
     "data": {
      "image/png": "[encoded data removed]",
      "text/plain": [
       "<Figure size 432x288 with 2 Axes>"
      ]
     },
     "metadata": {
      "needs_background": "light"
     },
     "output_type": "display_data"
    }
   ],
   "source": [
    "import seaborn as sns\n",
    "from sklearn import metrics\n",
    "threshold = best_threshold(train_thresholds, train_fpr, train_tpr)\n",
    "cm = metrics.confusion_matrix(y_train, best_predictions(y_train_prob, threshold))\n",
    "\n",
    "sns.heatmap(cm,annot = True, fmt = 'd')\n"
   ]
  },
  {
   "cell_type": "code",
   "execution_count": 71,
   "metadata": {},
   "outputs": [
    {
     "data": {
      "text/plain": [
       "<AxesSubplot:>"
      ]
     },
     "execution_count": 71,
     "metadata": {},
     "output_type": "execute_result"
    },
    {
     "data": {
      "image/png": "[encoded data removed]",
      "text/plain": [
       "<Figure size 432x288 with 2 Axes>"
      ]
     },
     "metadata": {
      "needs_background": "light"
     },
     "output_type": "display_data"
    }
   ],
   "source": [
    "threshold = best_threshold(test_thresholds, test_fpr, test_tpr)\n",
    "cm = metrics.confusion_matrix(y_test, best_predictions(y_test_prob, threshold))\n",
    "sns.heatmap(cm, annot= True, fmt = 'd')\n"
   ]
  },
  {
   "cell_type": "markdown",
   "metadata": {},
   "source": [
    "#### TFIDF"
   ]
  },
  {
   "cell_type": "code",
   "execution_count": 72,
   "metadata": {},
   "outputs": [
    {
     "name": "stdout",
     "output_type": "stream",
     "text": [
      "Fitting 10 folds for each of 5 candidates, totalling 50 fits\n"
     ]
    }
   ],
   "source": [
    "# Perform Hyperparameter Tuning.\n",
    "# Plot the training and the CV AUC scores, for different values of 'alpha', using a 2D line plot\n",
    "\n",
    "multinomial_nb_grid_tfidf = GridSearchCV(MultinomialNB(), param_grid = params, n_jobs = -1, cv = 10, verbose = 5, return_train_score=True,scoring = 'roc_auc')\n",
    "multinomial_nb_grid_tfidf.fit(X_train_set_tfidf,y_train)\n",
    "\n",
    "train_auc_tfidf = multinomial_nb_grid_tfidf.cv_results_['mean_train_score']\n",
    "cv_auc_tfidf = multinomial_nb_grid_tfidf.cv_results_['mean_test_score']\n"
   ]
  },
  {
   "cell_type": "code",
   "execution_count": 73,
   "metadata": {},
   "outputs": [
    {
     "name": "stdout",
     "output_type": "stream",
     "text": [
      "Train Accuracy : 0.837\n",
      "Test Accuracy : 0.834\n",
      "Best Accuracy Through Grid Search : 0.673\n",
      "Best Parameters :  {'alpha': 0.01}\n"
     ]
    }
   ],
   "source": [
    "# Obtain the optimal value for 'alpha' and using the obtained optimal 'alpha' value, fit a multinomial naive bayes model, on the train data,\n",
    "# Note: If you have split the datase into 3 parts (ie., train, cv and test sets) in the beginning, then the training datafor this final model would be (train set + cv set)\n",
    "# Make class label and probability predictions on the train and test data.\n",
    "print('Train Accuracy : %.3f'%multinomial_nb_grid_tfidf.best_estimator_.score(X_train_set_bow,y_train))\n",
    "print('Test Accuracy : %.3f'%multinomial_nb_grid_tfidf.best_estimator_.score(X_test_set_bow, y_test))\n",
    "print('Best Accuracy Through Grid Search : %.3f'%multinomial_nb_grid_tfidf.best_score_)\n",
    "print('Best Parameters : ',multinomial_nb_grid_tfidf.best_params_)\n",
    "\n"
   ]
  },
  {
   "cell_type": "code",
   "execution_count": 74,
   "metadata": {},
   "outputs": [
    {
     "data": {
      "image/png": "[encoded data removed]",
      "text/plain": [
       "<Figure size 432x288 with 1 Axes>"
      ]
     },
     "metadata": {
      "needs_background": "light"
     },
     "output_type": "display_data"
    }
   ],
   "source": [
    "log_param = list(map(np.log, params[\"alpha\"]))\n",
    "\n",
    "\n",
    "\n",
    "plt.plot(log_param,train_auc_tfidf, label = 'Train AUC')\n",
    "plt.plot(log_param,cv_auc_tfidf, label = \"CV AUC\")\n",
    "plt.scatter(log_param, train_auc_tfidf)\n",
    "plt.scatter(log_param, cv_auc_tfidf)\n",
    "plt.legend()\n",
    "plt.title(\"log alpha VS AUC\")\n",
    "plt.xlabel(\"log alpha\")\n",
    "plt.ylabel(\"AUC\")\n",
    "plt.grid()\n"
   ]
  },
  {
   "cell_type": "code",
   "execution_count": 75,
   "metadata": {},
   "outputs": [
    {
     "data": {
      "image/png": "[encoded data removed]",
      "text/plain": [
       "<Figure size 432x288 with 1 Axes>"
      ]
     },
     "metadata": {
      "needs_background": "light"
     },
     "output_type": "display_data"
    }
   ],
   "source": [
    "# Plot the ROC-AUC curves using the probability predictions made on train and test data.\n",
    "model_tfidf = MultinomialNB(alpha = 100 )\n",
    "model_tfidf.fit(X_train_set_tfidf, y_train)\n",
    "y_train_prob = multinomial_nb_grid_tfidf.predict_proba(X_train_set_tfidf)[:, 1]\n",
    "y_test_prob = multinomial_nb_grid_tfidf.predict_proba(X_test_set_tfidf)[:, 1]\n",
    "\n",
    "train_fpr, train_tpr, train_thresholds = roc_curve(y_train,y_train_prob)\n",
    "test_fpr, test_tpr, test_thresholds = roc_curve(y_test, y_test_prob)\n",
    "auc_train_tfidf = auc(train_fpr,train_tpr)\n",
    "auc_test_tfidf = auc(test_fpr, test_tpr)\n",
    "plt.plot(train_fpr, train_tpr, label = \"Train\")\n",
    "plt.plot(test_fpr,test_tpr, label = \"Test\")\n",
    "plt.legend()\n",
    "plt.xlabel(\"FPR\")\n",
    "plt.ylabel(\"TPR\")\n",
    "plt.title('AUC')\n",
    "plt.grid()\n"
   ]
  },
  {
   "cell_type": "code",
   "execution_count": 76,
   "metadata": {},
   "outputs": [
    {
     "data": {
      "text/plain": [
       "<AxesSubplot:>"
      ]
     },
     "execution_count": 76,
     "metadata": {},
     "output_type": "execute_result"
    },
    {
     "data": {
      "image/png": "[encoded data removed]",
      "text/plain": [
       "<Figure size 432x288 with 2 Axes>"
      ]
     },
     "metadata": {
      "needs_background": "light"
     },
     "output_type": "display_data"
    }
   ],
   "source": [
    "# Pick the best threshold among the probability estimates, such that it has to yield maximum value for TPR*(1-FPR)\n",
    "# Plot the confusion matrices(each for train and test data) afer encoding the predicted class labels, on the basis of the best threshod probability estimate.\n",
    "threshold = best_threshold(train_thresholds, train_fpr, train_tpr)\n",
    "cm = metrics.confusion_matrix(y_train, best_predictions(y_train_prob, threshold))\n",
    "\n",
    "sns.heatmap(cm,annot = True, fmt = 'd')\n"
   ]
  },
  {
   "cell_type": "code",
   "execution_count": 77,
   "metadata": {},
   "outputs": [
    {
     "data": {
      "text/plain": [
       "<AxesSubplot:>"
      ]
     },
     "execution_count": 77,
     "metadata": {},
     "output_type": "execute_result"
    },
    {
     "data": {
      "image/png": "[encoded data removed]",
      "text/plain": [
       "<Figure size 432x288 with 2 Axes>"
      ]
     },
     "metadata": {
      "needs_background": "light"
     },
     "output_type": "display_data"
    }
   ],
   "source": [
    "threshold = best_threshold(test_thresholds, test_fpr, test_tpr)\n",
    "cm = metrics.confusion_matrix(y_test, best_predictions(y_test_prob, threshold))\n",
    "sns.heatmap(cm, annot= True, fmt = 'd')\n"
   ]
  },
  {
   "cell_type": "code",
   "execution_count": 78,
   "metadata": {},
   "outputs": [
    {
     "name": "stdout",
     "output_type": "stream",
     "text": [
      "['teacher' 'music_arts' 'al' 'specialneeds' 'grades_3_5' 'grades_9_12'\n",
      " 'students come' 'mathematics' 'nutritioneducation' 'help students'\n",
      " 'students need' 'students able' 'low income' 'music' 'students learn'\n",
      " 'grades_prek_2' 'title school' 'allow students' 'free reduced'\n",
      " 'come school']\n",
      "['teacher' 'music_arts' 'al' 'specialneeds' 'grades_3_5' 'grades_9_12'\n",
      " 'mathematics' 'students come' 'nutritioneducation' 'help students'\n",
      " 'students need' 'students able' 'music' 'allow students' 'low income'\n",
      " 'students love' 'title school' 'free reduced' 'students use'\n",
      " 'grades_prek_2']\n"
     ]
    }
   ],
   "source": [
    "# Either from set 1 (or) set 2, print the names of the top 20 features associated with the positive and negative classes each. (You have to print the names of the features, but not the indexes)\n",
    "# reffered to https://stackoverflow.com/questions/50526898/how-to-get-feature-importance-in-naive-bayes\n",
    "features = []\n",
    "for feature in vectorizer.get_feature_names():\n",
    "    features.append(feature)\n",
    "for feature in vectorizer_clean_subcategories.get_feature_names():\n",
    "    features.append(feature)\n",
    "for feature in vectorizer_clean_categories.get_feature_names():\n",
    "    features.append(feature)\n",
    "for feature in vectorizer_teacher_prefix.get_feature_names():\n",
    "    features.append(feature)\n",
    "for feature in vectorizer_project_grade_category.get_feature_names():\n",
    "    features.append(feature)\n",
    "for feature in vectorizer_state.get_feature_names():\n",
    "    features.append(feature)\n",
    "features.append(\"price\")\n",
    "features.append('teacher_number_of_previously_posted_projects')\n",
    "neg_class_prob_sorted = model_bow.feature_log_prob_[0, :].argsort()[::-1]\n",
    "pos_class_prob_sorted = model_bow.feature_log_prob_[1, :].argsort()[::-1]\n",
    "\n",
    "print(np.take(features, neg_class_prob_sorted[: 20]))\n",
    "print(np.take(features, pos_class_prob_sorted[: 20]))\n"
   ]
  },
  {
   "cell_type": "markdown",
   "metadata": {
    "id": "lS9hIHdib3dp"
   },
   "source": [
    "# Summary\n",
    "\n",
    "\n"
   ]
  },
  {
   "cell_type": "code",
   "execution_count": 80,
   "metadata": {},
   "outputs": [
    {
     "data": {
      "text/html": [
       "<div>\n",
       "<style scoped>\n",
       "    .dataframe tbody tr th:only-of-type {\n",
       "        vertical-align: middle;\n",
       "    }\n",
       "\n",
       "    .dataframe tbody tr th {\n",
       "        vertical-align: top;\n",
       "    }\n",
       "\n",
       "    .dataframe thead th {\n",
       "        text-align: right;\n",
       "    }\n",
       "</style>\n",
       "<table border=\"1\" class=\"dataframe\">\n",
       "  <thead>\n",
       "    <tr style=\"text-align: right;\">\n",
       "      <th></th>\n",
       "      <th>Vectorizer</th>\n",
       "      <th>Model</th>\n",
       "      <th>Alpha</th>\n",
       "      <th>Test AUC score</th>\n",
       "    </tr>\n",
       "  </thead>\n",
       "  <tbody>\n",
       "    <tr>\n",
       "      <th>0</th>\n",
       "      <td>BOW</td>\n",
       "      <td>Multinomial Naive Bayes</td>\n",
       "      <td>0.01</td>\n",
       "      <td>0.662626</td>\n",
       "    </tr>\n",
       "    <tr>\n",
       "      <th>1</th>\n",
       "      <td>TFIDF</td>\n",
       "      <td>Multinomial Naive Bayes</td>\n",
       "      <td>100.00</td>\n",
       "      <td>0.668030</td>\n",
       "    </tr>\n",
       "  </tbody>\n",
       "</table>\n",
       "</div>"
      ],
      "text/plain": [
       "  Vectorizer                    Model   Alpha  Test AUC score\n",
       "0        BOW  Multinomial Naive Bayes    0.01        0.662626\n",
       "1      TFIDF  Multinomial Naive Bayes  100.00        0.668030"
      ]
     },
     "execution_count": 80,
     "metadata": {},
     "output_type": "execute_result"
    }
   ],
   "source": [
    "\n",
    "data_tab = [[\"BOW\",\"Multinomial Naive Bayes\", 0.01, auc_test_bow],[\"TFIDF\",\"Multinomial Naive Bayes\", 100, auc_test_tfidf]]\n",
    "table = pandas.DataFrame(data_tab, columns = ['Vectorizer',' Model', \"Alpha\", \"Test AUC score\"])\n",
    "table"
   ]
  },
  {
   "cell_type": "markdown",
   "metadata": {},
   "source": [
    "## References\n",
    "https://stackoverflow.com/questions/50526898/how-to-get-feature-importance-in-naive-bayes\n",
    "\n",
    "https://stackoverflow.com/questions/25009284/how-to-plot-roc-curve-in-python\n",
    "\n",
    "https://coderzcolumn.com/tutorials/machine-learning/scikit-learn-sklearn-naive-bayes\n",
    "\n",
    "https://stackoverflow.com/questions/47957151/error-expected-2d-array-got-1d-array-instead-using-onehotencoder\n",
    "\n",
    "https://www.mygreatlearning.com/blog/bag-of-words/"
   ]
  }
 ],
 "metadata": {
  "colab": {
   "collapsed_sections": [],
   "name": "6_Assignment_NB_Instructions.ipynb",
   "provenance": []
  },
  "kernelspec": {
   "display_name": "Python 3",
   "language": "python",
   "name": "python3"
  },
  "language_info": {
   "codemirror_mode": {
    "name": "ipython",
    "version": 3
   },
   "file_extension": ".py",
   "mimetype": "text/x-python",
   "name": "python",
   "nbconvert_exporter": "python",
   "pygments_lexer": "ipython3",
   "version": "3.8.8"
  }
 },
 "nbformat": 4,
 "nbformat_minor": 1
}
